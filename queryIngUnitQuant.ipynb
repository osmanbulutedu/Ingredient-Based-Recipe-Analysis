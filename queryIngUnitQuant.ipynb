{
 "cells": [
  {
   "cell_type": "markdown",
   "id": "bd6318ec",
   "metadata": {},
   "source": [
    "### this code has a query, that takes Recipe,Ingredients, Ingredients Quantity and Units and convert them to a data frame\n",
    "### from RecipeKG knowledge graph[1]\n",
    "### [1] https://github.com/IDIASLab/RecipeKG"
   ]
  },
  {
   "cell_type": "code",
   "execution_count": null,
   "id": "94ef2050",
   "metadata": {},
   "outputs": [],
   "source": [
    "import sparql_dataframe\n",
    "\n",
    "endpoint = \"https://recipekg.arcc.albany.edu/RecipeKG\"\n",
    "q = \"\"\"\n",
    "    PREFIX schema: <https://schema.org/>\n",
    "\tPREFIX recipeKG:<http://purl.org/recipekg/>\n",
    "\tPREFIX rdfs: <http://www.w3.org/2000/01/rdf-schema#>\n",
    "\tPREFIX food: <http://purl.org/heals/food/>\n",
    "     SELECT DISTINCT ?recipe ?ingredientName ?ingredientQuantity ?ingredientUnit\n",
    "     WHERE {\n",
    "                 ?recipe a schema:Recipe.\n",
    "                 ?recipe  food:hasIngredient ?ingredient.\n",
    "  \t\t\t\t?ingredient recipeKG:ingredientName ?ingredientName.\n",
    "  \t\t\t\tOPTIONAL{?ingredient recipeKG:hasQuantity ?ingredientQuantity.}\n",
    "  \t\t\t\tOPTIONAL{?ingredient recipeKG:hasUnit ?ingredientUnit.}\t\n",
    "         }\n",
    "\"\"\"\n",
    "\n",
    "df = sparql_dataframe.get(endpoint, q)\n",
    "\n",
    "\n",
    "\n",
    "df['recipe'] = df['recipe'].str[32:]"
   ]
  },
  {
   "cell_type": "code",
   "execution_count": null,
   "id": "b52d77d6",
   "metadata": {},
   "outputs": [],
   "source": [
    "df.to_csv(\"/Users/osman/Desktop/Master Project/data/1/ingUnitQuant.csv\",index=False)"
   ]
  }
 ],
 "metadata": {
  "kernelspec": {
   "display_name": "Python 3 (ipykernel)",
   "language": "python",
   "name": "python3"
  },
  "language_info": {
   "codemirror_mode": {
    "name": "ipython",
    "version": 3
   },
   "file_extension": ".py",
   "mimetype": "text/x-python",
   "name": "python",
   "nbconvert_exporter": "python",
   "pygments_lexer": "ipython3",
   "version": "3.11.4"
  }
 },
 "nbformat": 4,
 "nbformat_minor": 5
}
