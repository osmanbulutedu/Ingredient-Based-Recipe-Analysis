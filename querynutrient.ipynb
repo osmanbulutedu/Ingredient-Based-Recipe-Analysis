{
 "cells": [
  {
   "cell_type": "markdown",
   "metadata": {},
   "source": [
    "### query takes all nutrients and their recipes' category\n",
    "### cautionL only sodium and cholesterol are in miligram unit. all others are in gram unit.\n",
    "### it creates a csv file "
   ]
  },
  {
   "cell_type": "code",
   "execution_count": 120,
   "metadata": {},
   "outputs": [],
   "source": [
    "import sparql_dataframe\n",
    "\n",
    "# Define the SPARQL query\n",
    "endpoint = \"https://recipekg.arcc.albany.edu/RecipeKG\"\n",
    "query = \"\"\"\n",
    "    PREFIX schema: <https://schema.org/>\n",
    "    PREFIX ns1: <http://purl.org/recipekg/>\n",
    "    PREFIX ns2: <http://purl.org/heals/food/>\n",
    "    PREFIX rdfs: <http://www.w3.org/2000/01/rdf-schema#>\n",
    "\n",
    "    SELECT DISTINCT ?recipe ?calories ?cholesterol ?carbohydrates  ?protein ?fat ?saturatedFat ?fiber ?sodium ?sugar ?category\n",
    "    WHERE {\n",
    "        ?recipe a schema:Recipe ;\n",
    "                ns1:hasNutritionalInformation ?nutrition .\n",
    "                \n",
    "                \n",
    "\n",
    "        ?nutrition ns1:hasCarbohydrateData [ ns1:hasAmount ?carbohydrates ] ;\n",
    "                   ns1:hasProteinData [ ns1:hasAmount ?protein ] ;\n",
    "                   \n",
    "                   ns1:hasFatData [ ns1:hasAmount ?fat ] ;\n",
    "                   \n",
    "                   ns1:hasSaturatedFatData [ ns1:hasAmount ?saturatedFat ] ;\n",
    "                   \n",
    "                   ns1:hasFiberData [ ns1:hasAmount ?fiber ] ;\n",
    "                   \n",
    "                   ns1:hasSodiumData [ ns1:hasAmount ?sodium ] ;\n",
    "                   \n",
    "                   ns1:hasSugarData [ ns1:hasAmount ?sugar ] .\n",
    "                   \n",
    "        OPTIONAL{?recipe ns1:belongsTo ?category .}\n",
    "        OPTIONAL{?nutrition ns1:hasCholesterolData [ ns1:hasAmount ?cholesterol ] ;\n",
    "                    ns1:hasCalorificData [ ns1:hasAmount ?calories ] .}\n",
    "        \n",
    "                 \n",
    "    }\n",
    "\"\"\"\n",
    "\n",
    "# Execute the SPARQL query and create a DataFrame\n",
    "df = sparql_dataframe.get(endpoint, query)\n",
    "\n",
    "\n",
    "# takes only recipe names from urls\n",
    "df['recipe'] = df['recipe'].str[32:]"
   ]
  },
  {
   "cell_type": "code",
   "execution_count": null,
   "metadata": {},
   "outputs": [],
   "source": [
    "df.to_csv(\"/Users/osman/Desktop/Master Project/data/1/nutrient.csv\",index=False)"
   ]
  }
 ],
 "metadata": {
  "kernelspec": {
   "display_name": "Python 3",
   "language": "python",
   "name": "python3"
  },
  "language_info": {
   "codemirror_mode": {
    "name": "ipython",
    "version": 3
   },
   "file_extension": ".py",
   "mimetype": "text/x-python",
   "name": "python",
   "nbconvert_exporter": "python",
   "pygments_lexer": "ipython3",
   "version": "3.8.3"
  },
  "orig_nbformat": 4
 },
 "nbformat": 4,
 "nbformat_minor": 2
}
