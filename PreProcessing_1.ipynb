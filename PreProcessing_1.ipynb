{
 "cells": [
  {
   "cell_type": "markdown",
   "metadata": {},
   "source": [
    "### data preprocessing \n",
    "##### in this step, a lot of preproccessing will be applied.\n",
    "##### explanations will be in the cells\n",
    "##### at the end, number of unique recipes : 40079 \n",
    "##### number of unique ingredients number: 453 \n",
    "##### number of unique units: 31"
   ]
  },
  {
   "cell_type": "code",
   "execution_count": null,
   "metadata": {},
   "outputs": [],
   "source": [
    "import pandas as pd\n",
    "import numpy as np\n",
    "from initial_functions import *"
   ]
  },
  {
   "cell_type": "code",
   "execution_count": null,
   "metadata": {},
   "outputs": [],
   "source": [
    "ing=pd.read_csv(\"/Users/osman/Desktop/Master Project/data/1/ingUnitQuant.csv\")\n",
    "nut=pd.read_csv(\"/Users/osman/Desktop/Master Project/data/1/nutrient.csv\")\n",
    "serv=pd.read_csv(\"/Users/osman/Desktop/Master Project/data/1/servings.csv\")\n",
    "\n",
    "#truncate the recipes that dont have a serving information\n",
    "#and convert them to float\n",
    "#only 3 recipes are truncated\n",
    "\n",
    "serv=serv[serv[\"Servings\"]!=\"url error\"]\n",
    "#converting the serving information to int from string\n",
    "serv['Servings'] = pd.to_numeric(serv['Servings'], errors='coerce').fillna(0).astype(int)\n",
    "serv=serv[serv[\"Servings\"]!=0].reset_index(drop=True)\n",
    "serv=serv.drop(serv.columns[0], axis=1)"
   ]
  },
  {
   "cell_type": "code",
   "execution_count": null,
   "metadata": {},
   "outputs": [],
   "source": [
    "#adding servings information to the ingredient table\n",
    "ing1=ing.merge(serv, on='recipe', how='inner')\n",
    "#convert everthing lower case\n",
    "ing1['ingredientName'] = ing1['ingredientName'].str.lower()\n",
    "ing1['ingredientUnit'] = ing1['ingredientUnit'].str.lower()\n",
    "\n",
    "\n",
    "#delete units' recipes that are used less than 50 times\n",
    "ing1=trun(ing1, \"URL\", \"ingredientUnit\",50)"
   ]
  },
  {
   "cell_type": "code",
   "execution_count": null,
   "metadata": {},
   "outputs": [],
   "source": [
    "#delete the rows(ingredients) that have NaN values in unit and quantity at the same time\n",
    "\n",
    "ing1=ing1[~(ing1.ingredientQuantity.isnull() & ing1.ingredientUnit.isnull())].reset_index(drop=True)"
   ]
  },
  {
   "cell_type": "code",
   "execution_count": null,
   "metadata": {},
   "outputs": [],
   "source": [
    "#adding \"piece\" as a unit if the unit is still NaN\n",
    "#because almost all of them meant to be \"piece\" i.e 1 potato, 1 onion etc.\n",
    "ing1.ingredientUnit.fillna(\"piece\", inplace=True)"
   ]
  },
  {
   "cell_type": "code",
   "execution_count": null,
   "metadata": {},
   "outputs": [],
   "source": [
    "#deleting recipes that have NaN values in quantity is necessary. Especially for salt. We need to know amount of salt.\n",
    "#because we will use the quantity information to calculate the nutrient values.And salt and others are important.\n",
    "#deleting only those rows would have been wrong.Bcs it cahanges the recipe.\n",
    "#but deleting only rows can be tried as well before ml part.\n",
    "#so in this step we are losing aroung 4k recipes\n",
    "\n",
    "print(ing1[ing1.ingredientQuantity.isnull()].URL.nunique())\n",
    "delrec=ing1[ing1.ingredientQuantity.isnull()].URL.unique() #recipes that have NaN values in quantity\n",
    "ing1=ing1[~ing1.URL.isin(delrec)].reset_index(drop=True) #deleting those recipes"
   ]
  },
  {
   "cell_type": "code",
   "execution_count": null,
   "metadata": {},
   "outputs": [],
   "source": [
    "#recipes that have less than 3 ingredients will be truncated. about 1k recipes\n",
    "#we loose 1254 recipes here\n",
    "print(ing1[(ing1['recipe'].map(ing1['recipe'].value_counts()) < 3)].URL.nunique())\n",
    "ing1=ing1[~(ing1['recipe'].map(ing1['recipe'].value_counts()) < 3)].reset_index(drop=True)\n",
    "\n",
    "#delete the recipes that have ingredients which are used less then 100 in our dataset\n",
    "#this one truncates the whole recipes, NOT the ingredients!\n",
    "#we had 5877 unique igredients before this step. \n",
    "#5424 of themwill be truncated after this step. This will cause loosing 30542 recipes (from 70k to 40k) \n",
    "# these are dramatic numbers, needed to be considered again and this step might be passed before ml steps for a try.\n",
    "\n",
    "ing3=trun(ing1, \"URL\", \"ingredientName\",100)\n",
    "ing3.URL.nunique()"
   ]
  },
  {
   "cell_type": "code",
   "execution_count": null,
   "metadata": {},
   "outputs": [],
   "source": [
    "#converting the str values of quantities to float by using an external function\n",
    "\n",
    "ing3['ingredientQuantity'] = ing3['ingredientQuantity'].apply(convert_to_float)\n",
    "\n",
    "#10 recipes that still have NaN values in quantity will be truncated\n",
    "print(ing3[ing3.ingredientQuantity.isnull()].URL.nunique())\n",
    "delrec=ing3[ing3.ingredientQuantity.isnull()].URL.unique() #recipes that have NaN values in quantity\n",
    "ing3=ing3[~ing3.URL.isin(delrec)].reset_index(drop=True) #deleting those recipes\n"
   ]
  },
  {
   "cell_type": "code",
   "execution_count": null,
   "metadata": {},
   "outputs": [],
   "source": [
    "# first part of the preprocessing is done.\n",
    "#there is no missing values in the dataset now.\n",
    "#unit normalization might be done before ml part in the next step.\n",
    "print(\"recipe number:\",ing3.URL.nunique(),\"\\n\",\n",
    "      \"unique ingredient number:\",ing3.ingredientName.nunique(),\"\\n\",\n",
    "      \"unique unit number:\",ing3.ingredientUnit.nunique())"
   ]
  },
  {
   "cell_type": "code",
   "execution_count": null,
   "metadata": {},
   "outputs": [],
   "source": [
    "#save to csv\n",
    "ing3.to_csv(\"/Users/osman/Desktop/Master Project/data/2/recipe40k.csv\", index=False)"
   ]
  }
 ],
 "metadata": {
  "language_info": {
   "name": "python"
  },
  "orig_nbformat": 4
 },
 "nbformat": 4,
 "nbformat_minor": 2
}
